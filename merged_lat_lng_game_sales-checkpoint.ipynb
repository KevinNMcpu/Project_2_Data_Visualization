{
 "cells": [
  {
   "cell_type": "code",
   "execution_count": 5,
   "metadata": {},
   "outputs": [],
   "source": [
    "import pandas as pd\n",
    "from geopy.geocoders import Nominatim\n",
    "from geopy.exc import GeocoderTimedOut "
   ]
  },
  {
   "cell_type": "code",
   "execution_count": 3,
   "metadata": {},
   "outputs": [],
   "source": [
    "file_to_load = \"steam_sales_by_country.csv\""
   ]
  },
  {
   "cell_type": "code",
   "execution_count": 4,
   "metadata": {},
   "outputs": [
    {
     "data": {
      "text/html": [
       "<div>\n",
       "<style scoped>\n",
       "    .dataframe tbody tr th:only-of-type {\n",
       "        vertical-align: middle;\n",
       "    }\n",
       "\n",
       "    .dataframe tbody tr th {\n",
       "        vertical-align: top;\n",
       "    }\n",
       "\n",
       "    .dataframe thead th {\n",
       "        text-align: right;\n",
       "    }\n",
       "</style>\n",
       "<table border=\"1\" class=\"dataframe\">\n",
       "  <thead>\n",
       "    <tr style=\"text-align: right;\">\n",
       "      <th></th>\n",
       "      <th>Unnamed: 0</th>\n",
       "      <th>Countries</th>\n",
       "      <th>Games</th>\n",
       "    </tr>\n",
       "  </thead>\n",
       "  <tbody>\n",
       "    <tr>\n",
       "      <th>0</th>\n",
       "      <td>78</td>\n",
       "      <td>United States</td>\n",
       "      <td>1390626</td>\n",
       "    </tr>\n",
       "    <tr>\n",
       "      <th>1</th>\n",
       "      <td>12</td>\n",
       "      <td>China</td>\n",
       "      <td>927084</td>\n",
       "    </tr>\n",
       "    <tr>\n",
       "      <th>2</th>\n",
       "      <td>22</td>\n",
       "      <td>Germany</td>\n",
       "      <td>671800</td>\n",
       "    </tr>\n",
       "    <tr>\n",
       "      <th>3</th>\n",
       "      <td>62</td>\n",
       "      <td>Russia</td>\n",
       "      <td>470260</td>\n",
       "    </tr>\n",
       "    <tr>\n",
       "      <th>4</th>\n",
       "      <td>69</td>\n",
       "      <td>South Korea</td>\n",
       "      <td>456824</td>\n",
       "    </tr>\n",
       "  </tbody>\n",
       "</table>\n",
       "</div>"
      ],
      "text/plain": [
       "   Unnamed: 0      Countries    Games\n",
       "0          78  United States  1390626\n",
       "1          12          China   927084\n",
       "2          22        Germany   671800\n",
       "3          62         Russia   470260\n",
       "4          69    South Korea   456824"
      ]
     },
     "execution_count": 4,
     "metadata": {},
     "output_type": "execute_result"
    }
   ],
   "source": [
    "steam_data = pd.read_csv(file_to_load)\n",
    "steam_data.head()"
   ]
  },
  {
   "cell_type": "code",
   "execution_count": 6,
   "metadata": {},
   "outputs": [],
   "source": [
    "longitude = [] \n",
    "latitude = [] "
   ]
  },
  {
   "cell_type": "code",
   "execution_count": 10,
   "metadata": {},
   "outputs": [
    {
     "ename": "IndentationError",
     "evalue": "unindent does not match any outer indentation level (<tokenize>, line 10)",
     "output_type": "error",
     "traceback": [
      "\u001b[1;36m  File \u001b[1;32m\"<tokenize>\"\u001b[1;36m, line \u001b[1;32m10\u001b[0m\n\u001b[1;33m    except GeocoderTimedOut:\u001b[0m\n\u001b[1;37m    ^\u001b[0m\n\u001b[1;31mIndentationError\u001b[0m\u001b[1;31m:\u001b[0m unindent does not match any outer indentation level\n"
     ]
    }
   ],
   "source": [
    "def findGeocode(Countries): \n",
    "        try: \n",
    "          \n",
    "        # Specify the user_agent as your \n",
    "        # app name it should not be none \n",
    "        geolocator = Nominatim(user_agent=\"your_app_name\") \n",
    "          \n",
    "        return geolocator.geocode(country) \n",
    "      \n",
    "    except GeocoderTimedOut: \n",
    "          \n",
    "        return findGeocode(country)     \n",
    "  \n",
    "# each value from city column \n",
    "# will be fetched and sent to \n",
    "# function find_geocode    \n",
    "for i in (df[\"Countries\"]): \n",
    "      \n",
    "    if findGeocode(i) != None: \n",
    "           \n",
    "        loc = findGeocode(i) \n",
    "          \n",
    "        # coordinates returned from  \n",
    "        # function is stored into \n",
    "        # two separate list \n",
    "        latitude.append(loc.latitude) \n",
    "        longitude.append(loc.longitude) \n",
    "       \n",
    "    # if coordinate for a city not \n",
    "    # found, insert \"NaN\" indicating  \n",
    "    # missing value  \n",
    "    else: \n",
    "        latitude.append(np.nan) \n",
    "        longitude.append(np.nan) "
   ]
  },
  {
   "cell_type": "code",
   "execution_count": null,
   "metadata": {},
   "outputs": [],
   "source": []
  }
 ],
 "metadata": {
  "kernelspec": {
   "display_name": "Python 3",
   "language": "python",
   "name": "python3"
  },
  "language_info": {
   "codemirror_mode": {
    "name": "ipython",
    "version": 3
   },
   "file_extension": ".py",
   "mimetype": "text/x-python",
   "name": "python",
   "nbconvert_exporter": "python",
   "pygments_lexer": "ipython3",
   "version": "3.8.3"
  }
 },
 "nbformat": 4,
 "nbformat_minor": 4
}
